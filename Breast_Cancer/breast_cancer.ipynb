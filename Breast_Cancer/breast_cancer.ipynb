{
  "nbformat": 4,
  "nbformat_minor": 0,
  "metadata": {
    "colab": {
      "name": "breast_cancer.ipynb",
      "version": "0.3.2",
      "provenance": []
    },
    "kernelspec": {
      "name": "python3",
      "display_name": "Python 3"
    }
  },
  "cells": [
    {
      "cell_type": "markdown",
      "metadata": {
        "id": "EM0mCgrkR3HO",
        "colab_type": "text"
      },
      "source": [
        "##Loading packages and Data information"
      ]
    },
    {
      "cell_type": "code",
      "metadata": {
        "id": "sGCJ4JnvNKxp",
        "colab_type": "code",
        "colab": {}
      },
      "source": [
        "import pandas as pd\n",
        "import numpy as np\n",
        "import matplotlib.pyplot as plt\n",
        "import seaborn as sns\n",
        "sns.set(style=\"whitegrid\")\n",
        "%matplotlib inline"
      ],
      "execution_count": 0,
      "outputs": []
    },
    {
      "cell_type": "code",
      "metadata": {
        "id": "Y8Yc1ZwoNLrX",
        "colab_type": "code",
        "colab": {}
      },
      "source": [
        "from sklearn.model_selection import train_test_split\n",
        "from sklearn.model_selection import GridSearchCV\n",
        "from sklearn.model_selection import learning_curve\n",
        "from sklearn.model_selection import cross_val_score, cross_val_predict\n",
        "from sklearn.dummy import DummyClassifier\n",
        "from sklearn.neighbors import KNeighborsClassifier\n",
        "from sklearn.metrics import recall_score, precision_score, accuracy_score, f1_score\n",
        "from sklearn.metrics import confusion_matrix\n",
        "from sklearn.metrics import precision_recall_curve"
      ],
      "execution_count": 0,
      "outputs": []
    },
    {
      "cell_type": "code",
      "metadata": {
        "id": "qUkQk3NIMJb_",
        "colab_type": "code",
        "colab": {}
      },
      "source": [
        "import numpy as np\n",
        "import pandas as pd\n",
        "from sklearn.tree import DecisionTreeClassifier"
      ],
      "execution_count": 0,
      "outputs": []
    },
    {
      "cell_type": "code",
      "metadata": {
        "id": "3_99WfsFnQtP",
        "colab_type": "code",
        "colab": {
          "base_uri": "https://localhost:8080/",
          "height": 289
        },
        "outputId": "ca73db0f-663d-4abc-ccdc-64e4837372cf"
      },
      "source": [
        "data = \"https://raw.githubusercontent.com/sungsujaing/DataScience_MachineLearning_Portfolio/master/PrognosticBreaseTumorDetection/dataset_Breast_Cancer_Wisconsis_Prognostic/breast-cancer-wisconsin.data.txt\"\n",
        "cancer_df = pd.read_csv(data, sep=',', skiprows=0, header = None)\n",
        "\n",
        "attribute_name = ['Sample code number','Clump Thickness','Uniformity of Cell Size','Uniformity of Cell Shape','Marginal Adhesion','Single Epithelial Cell Size','Bare Nuclei','Bland Chromatin','Normal Nucleoli','Mitoses','Class']\n",
        "cancer_df.columns = attribute_name\n",
        "cancer_df.info()"
      ],
      "execution_count": 15,
      "outputs": [
        {
          "output_type": "stream",
          "text": [
            "<class 'pandas.core.frame.DataFrame'>\n",
            "RangeIndex: 699 entries, 0 to 698\n",
            "Data columns (total 11 columns):\n",
            "Sample code number             699 non-null int64\n",
            "Clump Thickness                699 non-null int64\n",
            "Uniformity of Cell Size        699 non-null int64\n",
            "Uniformity of Cell Shape       699 non-null int64\n",
            "Marginal Adhesion              699 non-null int64\n",
            "Single Epithelial Cell Size    699 non-null int64\n",
            "Bare Nuclei                    699 non-null object\n",
            "Bland Chromatin                699 non-null int64\n",
            "Normal Nucleoli                699 non-null int64\n",
            "Mitoses                        699 non-null int64\n",
            "Class                          699 non-null int64\n",
            "dtypes: int64(10), object(1)\n",
            "memory usage: 60.1+ KB\n"
          ],
          "name": "stdout"
        }
      ]
    },
    {
      "cell_type": "code",
      "metadata": {
        "id": "cvhJaSsPHZZj",
        "colab_type": "code",
        "colab": {
          "base_uri": "https://localhost:8080/",
          "height": 204
        },
        "outputId": "2bdb68b0-35d1-41f7-b867-78691b3844b4"
      },
      "source": [
        "cancer_df.head()"
      ],
      "execution_count": 16,
      "outputs": [
        {
          "output_type": "execute_result",
          "data": {
            "text/html": [
              "<div>\n",
              "<style scoped>\n",
              "    .dataframe tbody tr th:only-of-type {\n",
              "        vertical-align: middle;\n",
              "    }\n",
              "\n",
              "    .dataframe tbody tr th {\n",
              "        vertical-align: top;\n",
              "    }\n",
              "\n",
              "    .dataframe thead th {\n",
              "        text-align: right;\n",
              "    }\n",
              "</style>\n",
              "<table border=\"1\" class=\"dataframe\">\n",
              "  <thead>\n",
              "    <tr style=\"text-align: right;\">\n",
              "      <th></th>\n",
              "      <th>Sample code number</th>\n",
              "      <th>Clump Thickness</th>\n",
              "      <th>Uniformity of Cell Size</th>\n",
              "      <th>Uniformity of Cell Shape</th>\n",
              "      <th>Marginal Adhesion</th>\n",
              "      <th>Single Epithelial Cell Size</th>\n",
              "      <th>Bare Nuclei</th>\n",
              "      <th>Bland Chromatin</th>\n",
              "      <th>Normal Nucleoli</th>\n",
              "      <th>Mitoses</th>\n",
              "      <th>Class</th>\n",
              "    </tr>\n",
              "  </thead>\n",
              "  <tbody>\n",
              "    <tr>\n",
              "      <th>0</th>\n",
              "      <td>1000025</td>\n",
              "      <td>5</td>\n",
              "      <td>1</td>\n",
              "      <td>1</td>\n",
              "      <td>1</td>\n",
              "      <td>2</td>\n",
              "      <td>1</td>\n",
              "      <td>3</td>\n",
              "      <td>1</td>\n",
              "      <td>1</td>\n",
              "      <td>2</td>\n",
              "    </tr>\n",
              "    <tr>\n",
              "      <th>1</th>\n",
              "      <td>1002945</td>\n",
              "      <td>5</td>\n",
              "      <td>4</td>\n",
              "      <td>4</td>\n",
              "      <td>5</td>\n",
              "      <td>7</td>\n",
              "      <td>10</td>\n",
              "      <td>3</td>\n",
              "      <td>2</td>\n",
              "      <td>1</td>\n",
              "      <td>2</td>\n",
              "    </tr>\n",
              "    <tr>\n",
              "      <th>2</th>\n",
              "      <td>1015425</td>\n",
              "      <td>3</td>\n",
              "      <td>1</td>\n",
              "      <td>1</td>\n",
              "      <td>1</td>\n",
              "      <td>2</td>\n",
              "      <td>2</td>\n",
              "      <td>3</td>\n",
              "      <td>1</td>\n",
              "      <td>1</td>\n",
              "      <td>2</td>\n",
              "    </tr>\n",
              "    <tr>\n",
              "      <th>3</th>\n",
              "      <td>1016277</td>\n",
              "      <td>6</td>\n",
              "      <td>8</td>\n",
              "      <td>8</td>\n",
              "      <td>1</td>\n",
              "      <td>3</td>\n",
              "      <td>4</td>\n",
              "      <td>3</td>\n",
              "      <td>7</td>\n",
              "      <td>1</td>\n",
              "      <td>2</td>\n",
              "    </tr>\n",
              "    <tr>\n",
              "      <th>4</th>\n",
              "      <td>1017023</td>\n",
              "      <td>4</td>\n",
              "      <td>1</td>\n",
              "      <td>1</td>\n",
              "      <td>3</td>\n",
              "      <td>2</td>\n",
              "      <td>1</td>\n",
              "      <td>3</td>\n",
              "      <td>1</td>\n",
              "      <td>1</td>\n",
              "      <td>2</td>\n",
              "    </tr>\n",
              "  </tbody>\n",
              "</table>\n",
              "</div>"
            ],
            "text/plain": [
              "   Sample code number  Clump Thickness  ...  Mitoses  Class\n",
              "0             1000025                5  ...        1      2\n",
              "1             1002945                5  ...        1      2\n",
              "2             1015425                3  ...        1      2\n",
              "3             1016277                6  ...        1      2\n",
              "4             1017023                4  ...        1      2\n",
              "\n",
              "[5 rows x 11 columns]"
            ]
          },
          "metadata": {
            "tags": []
          },
          "execution_count": 16
        }
      ]
    },
    {
      "cell_type": "markdown",
      "metadata": {
        "id": "D7-sOtiGOvkN",
        "colab_type": "text"
      },
      "source": [
        "This data set contains 699 samples with 11 attributes (columns). The ***Class*** column will be our key classifier whether the sample is ***Benign*** or ***Malignant*** type tumor."
      ]
    },
    {
      "cell_type": "code",
      "metadata": {
        "id": "Q_39wHBAMeJo",
        "colab_type": "code",
        "colab": {
          "base_uri": "https://localhost:8080/",
          "height": 34
        },
        "outputId": "6863b05a-7646-4f9a-9398-2486e6a58864"
      },
      "source": [
        "class_perc = (((cancer_df['Class'].value_counts())/cancer_df['Class'].value_counts().sum()))\n",
        "print('Dataset is composed of {:.2%} Benign and {:.2%} Malignant tumor information'.format(class_perc[2],class_perc[4]))"
      ],
      "execution_count": 17,
      "outputs": [
        {
          "output_type": "stream",
          "text": [
            "Dataset is composed of 65.52% Benign and 34.48% Malignant tumor information\n"
          ],
          "name": "stdout"
        }
      ]
    },
    {
      "cell_type": "code",
      "metadata": {
        "id": "K8BXttV3P8Ff",
        "colab_type": "code",
        "colab": {}
      },
      "source": [
        ""
      ],
      "execution_count": 0,
      "outputs": []
    },
    {
      "cell_type": "markdown",
      "metadata": {
        "id": "XJGV_cz-QWwJ",
        "colab_type": "text"
      },
      "source": [
        "The first column ***'Sample code number'*** would not be consider an attribute for spliting data because they were unique squential numbers to label each sample.\n",
        "\n",
        "Out of 699 data, 65.52% (class[2]) is considered as ***Benign*** as well as 34.48% (class[4]) is considered as ***Malignant*** cell.\n",
        "\n",
        "\n"
      ]
    },
    {
      "cell_type": "markdown",
      "metadata": {
        "id": "YKHdpYnyRyNX",
        "colab_type": "text"
      },
      "source": [
        "##Data Cleaning"
      ]
    },
    {
      "cell_type": "markdown",
      "metadata": {
        "id": "17ZWEwmYVrEF",
        "colab_type": "text"
      },
      "source": [
        "Checking if cancer_df has any NaN('?') values in each column."
      ]
    },
    {
      "cell_type": "code",
      "metadata": {
        "id": "BWNExIMHRwIp",
        "colab_type": "code",
        "colab": {
          "base_uri": "https://localhost:8080/",
          "height": 221
        },
        "outputId": "c0ab3f63-a58b-487c-d527-a1e82d674a59"
      },
      "source": [
        "cancer_df[cancer_df.isin(['?'])].count()"
      ],
      "execution_count": 25,
      "outputs": [
        {
          "output_type": "execute_result",
          "data": {
            "text/plain": [
              "Sample code number              0\n",
              "Clump Thickness                 0\n",
              "Uniformity of Cell Size         0\n",
              "Uniformity of Cell Shape        0\n",
              "Marginal Adhesion               0\n",
              "Single Epithelial Cell Size     0\n",
              "Bare Nuclei                    16\n",
              "Bland Chromatin                 0\n",
              "Normal Nucleoli                 0\n",
              "Mitoses                         0\n",
              "Class                           0\n",
              "dtype: int64"
            ]
          },
          "metadata": {
            "tags": []
          },
          "execution_count": 25
        }
      ]
    },
    {
      "cell_type": "markdown",
      "metadata": {
        "id": "IZVCRDX3V3Xg",
        "colab_type": "text"
      },
      "source": [
        "Only ***'Bare Nuclei'*** column has NaN values.\n",
        "Normally, it will be better to drop all the rows where all the null values are; however, since the data set is very small, all the null values in ***'Bare Nuclei'*** column are replaced with its median value."
      ]
    },
    {
      "cell_type": "code",
      "metadata": {
        "id": "HGZ_Jn5iSqrP",
        "colab_type": "code",
        "colab": {}
      },
      "source": [
        "cancer_df['Bare Nuclei'] = cancer_df['Bare Nuclei'].map(lambda x: int(x) if x!='?' else np.nan)\n",
        "cancer_df.fillna({'Bare Nuclei':cancer_df['Bare Nuclei'].median()},inplace=True)\n",
        "cancer_df['Bare Nuclei'] = cancer_df['Bare Nuclei'].astype('int64')"
      ],
      "execution_count": 0,
      "outputs": []
    },
    {
      "cell_type": "markdown",
      "metadata": {
        "id": "lEkw9ygmXaSi",
        "colab_type": "text"
      },
      "source": [
        "## EDA"
      ]
    },
    {
      "cell_type": "markdown",
      "metadata": {
        "id": "6G2cZOEyXnj-",
        "colab_type": "text"
      },
      "source": [
        "9 attributes (biological parameters) will be used in this project in order to split the data based on the value of the best attribute.\n",
        "\n",
        "Therefore, we expect to see each attribute has strong correrlation among them. A correlation matrix is used to have a overall view of the correlation among the attributes."
      ]
    },
    {
      "cell_type": "markdown",
      "metadata": {
        "id": "jyeVPIZ2YeRO",
        "colab_type": "text"
      },
      "source": [
        "#### Correlation Matrix"
      ]
    },
    {
      "cell_type": "code",
      "metadata": {
        "id": "pHX2GNSXWn-8",
        "colab_type": "code",
        "colab": {
          "base_uri": "https://localhost:8080/",
          "height": 675
        },
        "outputId": "14e22f1e-ec2d-4500-cd0a-203d7b1de10f"
      },
      "source": [
        "corr_feature = ['Clump Thickness', 'Uniformity of Cell Size', 'Uniformity of Cell Shape', 'Marginal Adhesion', 'Single Epithelial Cell Size', 'Bare Nuclei', 'Bland Chromatin', 'Normal Nucleoli', 'Mitoses']\n",
        "X = cancer_df[corr_feature]\n",
        "\n",
        "corr = X.corr()\n",
        "mask = np.zeros_like(corr, dtype=np.bool)\n",
        "mask[np.triu_indices_from(mask)] = True\n",
        "plt.figure(figsize=(11, 9))\n",
        "ax = sns.heatmap(corr, mask=mask, vmax = 1, vmin = 0, square = True,annot=True,cmap=\"YlGnBu\")\n",
        "sns.set(font_scale = 1.5)\n"
      ],
      "execution_count": 28,
      "outputs": [
        {
          "output_type": "display_data",
          "data": {
            "image/png": "[encoded data removed]",
            "text/plain": [
              "<Figure size 792x648 with 2 Axes>"
            ]
          },
          "metadata": {
            "tags": []
          }
        }
      ]
    },
    {
      "cell_type": "markdown",
      "metadata": {
        "id": "aLQnwahUZG0x",
        "colab_type": "text"
      },
      "source": [
        "Based on the matrix, we can determine that most of the attributes are strongly correlated. However, ***'Mitoses (a typical tissue growth that results in ordinary cell division)'*** column has shown relatively weaker correlation among the others. This could be somewhat expected because the tumor cells are known as randomly and abnormaly dviding cells."
      ]
    },
    {
      "cell_type": "markdown",
      "metadata": {
        "id": "o-Qz-lqra5Dy",
        "colab_type": "text"
      },
      "source": [
        "### Setting up the Decision Tree"
      ]
    },
    {
      "cell_type": "code",
      "metadata": {
        "id": "1sVwt77HYtHo",
        "colab_type": "code",
        "colab": {
          "base_uri": "https://localhost:8080/",
          "height": 119
        },
        "outputId": "eb84fb07-8f43-4a52-f8b1-5a82b11c8005"
      },
      "source": [
        "y = cancer_df[\"Class\"]\n",
        "y[0:5]"
      ],
      "execution_count": 30,
      "outputs": [
        {
          "output_type": "execute_result",
          "data": {
            "text/plain": [
              "0    2\n",
              "1    2\n",
              "2    2\n",
              "3    2\n",
              "4    2\n",
              "Name: Class, dtype: int64"
            ]
          },
          "metadata": {
            "tags": []
          },
          "execution_count": 30
        }
      ]
    },
    {
      "cell_type": "code",
      "metadata": {
        "id": "_zMKqLSeaf3d",
        "colab_type": "code",
        "colab": {}
      },
      "source": [
        "X_trainset, X_testset, y_trainset, y_testset = train_test_split(X, y, test_size=0.2, random_state=3)"
      ],
      "execution_count": 0,
      "outputs": []
    },
    {
      "cell_type": "markdown",
      "metadata": {
        "id": "lYy_cR7WbOMV",
        "colab_type": "text"
      },
      "source": [
        "### Modeling"
      ]
    },
    {
      "cell_type": "code",
      "metadata": {
        "id": "c_Lb6gB7bXO9",
        "colab_type": "code",
        "colab": {
          "base_uri": "https://localhost:8080/",
          "height": 119
        },
        "outputId": "87e5a708-102b-402e-d774-6329c40a44c9"
      },
      "source": [
        "cancerTree = DecisionTreeClassifier(criterion=\"entropy\", max_depth = 4)\n",
        "cancerTree # it shows the default parameters"
      ],
      "execution_count": 33,
      "outputs": [
        {
          "output_type": "execute_result",
          "data": {
            "text/plain": [
              "DecisionTreeClassifier(class_weight=None, criterion='entropy', max_depth=4,\n",
              "                       max_features=None, max_leaf_nodes=None,\n",
              "                       min_impurity_decrease=0.0, min_impurity_split=None,\n",
              "                       min_samples_leaf=1, min_samples_split=2,\n",
              "                       min_weight_fraction_leaf=0.0, presort=False,\n",
              "                       random_state=None, splitter='best')"
            ]
          },
          "metadata": {
            "tags": []
          },
          "execution_count": 33
        }
      ]
    },
    {
      "cell_type": "code",
      "metadata": {
        "id": "ncYVmCf1bLLZ",
        "colab_type": "code",
        "colab": {
          "base_uri": "https://localhost:8080/",
          "height": 119
        },
        "outputId": "b3726c09-4bd6-4824-e9e8-5f9a2a9a311b"
      },
      "source": [
        "cancerTree.fit(X_trainset,y_trainset)"
      ],
      "execution_count": 34,
      "outputs": [
        {
          "output_type": "execute_result",
          "data": {
            "text/plain": [
              "DecisionTreeClassifier(class_weight=None, criterion='entropy', max_depth=4,\n",
              "                       max_features=None, max_leaf_nodes=None,\n",
              "                       min_impurity_decrease=0.0, min_impurity_split=None,\n",
              "                       min_samples_leaf=1, min_samples_split=2,\n",
              "                       min_weight_fraction_leaf=0.0, presort=False,\n",
              "                       random_state=None, splitter='best')"
            ]
          },
          "metadata": {
            "tags": []
          },
          "execution_count": 34
        }
      ]
    },
    {
      "cell_type": "code",
      "metadata": {
        "id": "1BzdNt9DbiRv",
        "colab_type": "code",
        "colab": {
          "base_uri": "https://localhost:8080/",
          "height": 136
        },
        "outputId": "7cda1971-fc38-41e8-83f0-44ed2a7635da"
      },
      "source": [
        "predTree = cancerTree.predict(X_testset)\n",
        "print (predTree[0:5])\n",
        "print (y_testset[0:5])"
      ],
      "execution_count": 36,
      "outputs": [
        {
          "output_type": "stream",
          "text": [
            "[4 4 2 2 2]\n",
            "386    4\n",
            "330    4\n",
            "637    2\n",
            "647    2\n",
            "469    2\n",
            "Name: Class, dtype: int64\n"
          ],
          "name": "stdout"
        }
      ]
    },
    {
      "cell_type": "markdown",
      "metadata": {
        "id": "eoMhM-rHb63C",
        "colab_type": "text"
      },
      "source": [
        "### Evaluation"
      ]
    },
    {
      "cell_type": "markdown",
      "metadata": {
        "id": "mjhf_WHTb9qe",
        "colab_type": "text"
      },
      "source": [
        "Import **metrics** from sklearn and check accuracy of the model"
      ]
    },
    {
      "cell_type": "code",
      "metadata": {
        "id": "4VV6Wob1bwTE",
        "colab_type": "code",
        "colab": {
          "base_uri": "https://localhost:8080/",
          "height": 34
        },
        "outputId": "cd92efd2-575b-4580-fb76-20fa02cdfc95"
      },
      "source": [
        "from sklearn import metrics\n",
        "print(\"DecisionTrees's Accuracy: \", metrics.accuracy_score(y_testset, predTree))"
      ],
      "execution_count": 37,
      "outputs": [
        {
          "output_type": "stream",
          "text": [
            "DecisionTrees's Accuracy:  0.9714285714285714\n"
          ],
          "name": "stdout"
        }
      ]
    },
    {
      "cell_type": "code",
      "metadata": {
        "id": "cE4hhXERfIxt",
        "colab_type": "code",
        "colab": {}
      },
      "source": [
        "import six"
      ],
      "execution_count": 0,
      "outputs": []
    },
    {
      "cell_type": "code",
      "metadata": {
        "id": "MuxnmEcmcTS7",
        "colab_type": "code",
        "colab": {}
      },
      "source": [
        "from sklearn.tree import DecisionTreeClassifier, export_graphviz\n",
        "from sklearn import tree\n",
        "from sklearn.datasets import load_wine\n",
        "from IPython.display import SVG\n",
        "from graphviz import Source\n",
        "from IPython.display import display                               \n",
        "from ipywidgets import interactive"
      ],
      "execution_count": 0,
      "outputs": []
    },
    {
      "cell_type": "code",
      "metadata": {
        "id": "oV8eUn2DgY-E",
        "colab_type": "code",
        "colab": {
          "base_uri": "https://localhost:8080/",
          "height": 129
        },
        "outputId": "2419e26c-7559-4f82-a2e4-74dd8a3b8a18"
      },
      "source": [
        "# class labels\n",
        "labels = corr_feature\n",
        "\n",
        "def plot_tree(crit, split, depth, min_split, min_leaf=0.2):\n",
        "\n",
        "  estimator = DecisionTreeClassifier(random_state = 0 \n",
        "      , criterion = crit\n",
        "      , splitter = split\n",
        "      , max_depth = depth\n",
        "      , min_samples_split=min_split\n",
        "      , min_samples_leaf=min_leaf)\n",
        "    estimator.fit(X, y)\n",
        "\n",
        "graph = Source(tree.export_graphviz(estimator\n",
        "      , out_file=None\n",
        "      , feature_names=labels\n",
        "      , class_names=['0', '1', '2']\n",
        "      , filled = True))\n",
        "   \n",
        "    display(SVG(graph.pipe(format='svg')))\n",
        "\n",
        "return estimator\n",
        "  \n",
        "inter=interactive(plot_tree \n",
        "   , crit = [\"gini\", \"entropy\"]\n",
        "   , split = [\"best\", \"random\"]\n",
        "   , depth=[1,2,3,4]\n",
        "   , min_split=(0.1,1)\n",
        "   , min_leaf=(0.1,0.5))\n",
        "\n",
        "\n",
        "  \n",
        "display(inter)"
      ],
      "execution_count": 56,
      "outputs": [
        {
          "output_type": "error",
          "ename": "IndentationError",
          "evalue": "ignored",
          "traceback": [
            "\u001b[0;36m  File \u001b[0;32m\"<ipython-input-56-e7f91f5a2c20>\"\u001b[0;36m, line \u001b[0;32m11\u001b[0m\n\u001b[0;31m    estimator.fit(X, y)\u001b[0m\n\u001b[0m    ^\u001b[0m\n\u001b[0;31mIndentationError\u001b[0m\u001b[0;31m:\u001b[0m unexpected indent\n"
          ]
        }
      ]
    },
    {
      "cell_type": "code",
      "metadata": {
        "id": "76azUqCac7UO",
        "colab_type": "code",
        "colab": {}
      },
      "source": [
        ""
      ],
      "execution_count": 0,
      "outputs": []
    }
  ]
}