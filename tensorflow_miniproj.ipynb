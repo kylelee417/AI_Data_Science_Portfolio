{
  "nbformat": 4,
  "nbformat_minor": 0,
  "metadata": {
    "colab": {
      "name": "Untitled3.ipynb",
      "version": "0.3.2",
      "provenance": [],
      "include_colab_link": true
    },
    "kernelspec": {
      "name": "python3",
      "display_name": "Python 3"
    },
    "accelerator": "GPU"
  },
  "cells": [
    {
      "cell_type": "markdown",
      "metadata": {
        "id": "view-in-github",
        "colab_type": "text"
      },
      "source": [
        "<a href=\"https://colab.research.google.com/github/kylelee417/Data-Science_Portfolio/blob/master/tensorflow_miniproj.ipynb\" target=\"_parent\"><img src=\"https://colab.research.google.com/assets/colab-badge.svg\" alt=\"Open In Colab\"/></a>"
      ]
    },
    {
      "cell_type": "markdown",
      "metadata": {
        "id": "hmOiNUhsDUEa",
        "colab_type": "text"
      },
      "source": [
        "**Import Library**"
      ]
    },
    {
      "cell_type": "code",
      "metadata": {
        "id": "Mf0crsvTAOkr",
        "colab_type": "code",
        "colab": {
          "base_uri": "https://localhost:8080/",
          "height": 34
        },
        "outputId": "ed8c4f6e-66c6-4600-955f-65a19fc23f9b"
      },
      "source": [
        "import keras\n",
        "import numpy as np\n",
        "from keras.utils import to_categorical"
      ],
      "execution_count": 1,
      "outputs": [
        {
          "output_type": "stream",
          "text": [
            "Using TensorFlow backend.\n"
          ],
          "name": "stderr"
        }
      ]
    },
    {
      "cell_type": "markdown",
      "metadata": {
        "id": "JX9uJeGrDYjx",
        "colab_type": "text"
      },
      "source": [
        "**Import MNIST number dataset from Keras**"
      ]
    },
    {
      "cell_type": "code",
      "metadata": {
        "id": "WRy16USmBdg3",
        "colab_type": "code",
        "colab": {}
      },
      "source": [
        "from keras.datasets import mnist"
      ],
      "execution_count": 0,
      "outputs": []
    },
    {
      "cell_type": "code",
      "metadata": {
        "id": "WVAeZBl8BhBD",
        "colab_type": "code",
        "colab": {}
      },
      "source": [
        "(X_train, y_train), (X_test, y_test) = mnist.load_data()\n"
      ],
      "execution_count": 0,
      "outputs": []
    },
    {
      "cell_type": "code",
      "metadata": {
        "id": "zVhwxSjyBkuu",
        "colab_type": "code",
        "outputId": "a2e8eac1-7c4a-47c1-c90a-fd0c0a47c5bd",
        "colab": {
          "base_uri": "https://localhost:8080/",
          "height": 34
        }
      },
      "source": [
        "X_train.shape"
      ],
      "execution_count": 4,
      "outputs": [
        {
          "output_type": "execute_result",
          "data": {
            "text/plain": [
              "(60000, 28, 28)"
            ]
          },
          "metadata": {
            "tags": []
          },
          "execution_count": 4
        }
      ]
    },
    {
      "cell_type": "code",
      "metadata": {
        "id": "Ib9Z83ErBpTC",
        "colab_type": "code",
        "colab": {}
      },
      "source": [
        "import matplotlib.pyplot as plt"
      ],
      "execution_count": 0,
      "outputs": []
    },
    {
      "cell_type": "markdown",
      "metadata": {
        "id": "4YOtbII0Giyg",
        "colab_type": "text"
      },
      "source": [
        "**Checking the first data from the training set**\n"
      ]
    },
    {
      "cell_type": "code",
      "metadata": {
        "id": "paBecxu0CJ3L",
        "colab_type": "code",
        "outputId": "61441446-b1a4-4a8d-ab29-d9590235ec39",
        "colab": {
          "base_uri": "https://localhost:8080/",
          "height": 286
        }
      },
      "source": [
        "plt.imshow(X_train[0],cmap='gray')"
      ],
      "execution_count": 6,
      "outputs": [
        {
          "output_type": "execute_result",
          "data": {
            "text/plain": [
              "<matplotlib.image.AxesImage at 0x7fb03533e630>"
            ]
          },
          "metadata": {
            "tags": []
          },
          "execution_count": 6
        },
        {
          "output_type": "display_data",
          "data": {
            "image/png": "[encoded data removed]",
            "text/plain": [
              "<Figure size 432x288 with 1 Axes>"
            ]
          },
          "metadata": {
            "tags": []
          }
        }
      ]
    },
    {
      "cell_type": "code",
      "metadata": {
        "id": "vskO-LfCCX8g",
        "colab_type": "code",
        "outputId": "901e8d41-c77e-4c62-c4a5-7f8fd04050e8",
        "colab": {
          "base_uri": "https://localhost:8080/",
          "height": 34
        }
      },
      "source": [
        "len(set(y_train))"
      ],
      "execution_count": 7,
      "outputs": [
        {
          "output_type": "execute_result",
          "data": {
            "text/plain": [
              "10"
            ]
          },
          "metadata": {
            "tags": []
          },
          "execution_count": 7
        }
      ]
    },
    {
      "cell_type": "code",
      "metadata": {
        "id": "_vFNdBPXCS2Y",
        "colab_type": "code",
        "outputId": "c1b4eabd-8b0f-4bea-d329-d0c2aa1f8c13",
        "colab": {
          "base_uri": "https://localhost:8080/",
          "height": 34
        }
      },
      "source": [
        "y_train[0]"
      ],
      "execution_count": 8,
      "outputs": [
        {
          "output_type": "execute_result",
          "data": {
            "text/plain": [
              "5"
            ]
          },
          "metadata": {
            "tags": []
          },
          "execution_count": 8
        }
      ]
    },
    {
      "cell_type": "code",
      "metadata": {
        "id": "Yy5FAw9NCvjy",
        "colab_type": "code",
        "colab": {}
      },
      "source": [
        "y_train = to_categorical(y_train,10)\n",
        "y_test = to_categorical(y_test,10)"
      ],
      "execution_count": 0,
      "outputs": []
    },
    {
      "cell_type": "code",
      "metadata": {
        "id": "TJzKc6zIDBao",
        "colab_type": "code",
        "outputId": "5c5f4853-e888-4496-c86e-b8a0feae18f6",
        "colab": {
          "base_uri": "https://localhost:8080/",
          "height": 34
        }
      },
      "source": [
        "y_train[0]"
      ],
      "execution_count": 10,
      "outputs": [
        {
          "output_type": "execute_result",
          "data": {
            "text/plain": [
              "array([0., 0., 0., 0., 0., 1., 0., 0., 0., 0.], dtype=float32)"
            ]
          },
          "metadata": {
            "tags": []
          },
          "execution_count": 10
        }
      ]
    },
    {
      "cell_type": "code",
      "metadata": {
        "id": "_Tug-fbADVJ8",
        "colab_type": "code",
        "colab": {}
      },
      "source": [
        "X_train = X_train.astype(np.float32) / 255\n",
        "X_test = X_test.astype(np.float32) / 255\n",
        "\n"
      ],
      "execution_count": 0,
      "outputs": []
    },
    {
      "cell_type": "code",
      "metadata": {
        "id": "w1z2xs6ZDwIH",
        "colab_type": "code",
        "outputId": "658d1199-9c7b-482d-b895-ffc3700ec861",
        "colab": {
          "base_uri": "https://localhost:8080/",
          "height": 34
        }
      },
      "source": [
        "X_train.shape"
      ],
      "execution_count": 12,
      "outputs": [
        {
          "output_type": "execute_result",
          "data": {
            "text/plain": [
              "(60000, 28, 28)"
            ]
          },
          "metadata": {
            "tags": []
          },
          "execution_count": 12
        }
      ]
    },
    {
      "cell_type": "code",
      "metadata": {
        "id": "NDS-aaf9D0O4",
        "colab_type": "code",
        "colab": {}
      },
      "source": [
        "X_train = np.expand_dims(X_train, 3)\n",
        "X_test = np.expand_dims(X_test,3)"
      ],
      "execution_count": 0,
      "outputs": []
    },
    {
      "cell_type": "code",
      "metadata": {
        "id": "tB-cNPWFERBB",
        "colab_type": "code",
        "colab": {}
      },
      "source": [
        "from keras.models import Sequential\n",
        "from keras.layers import Dense,Conv2D,Flatten,Dropout\n",
        "from keras.optimizers import Adam\n"
      ],
      "execution_count": 0,
      "outputs": []
    },
    {
      "cell_type": "code",
      "metadata": {
        "id": "FJcaJioLFhkY",
        "colab_type": "code",
        "outputId": "43c1881b-fc33-4031-c2f9-701f93d83526",
        "colab": {
          "base_uri": "https://localhost:8080/",
          "height": 34
        }
      },
      "source": [
        "X_train[0].shape"
      ],
      "execution_count": 15,
      "outputs": [
        {
          "output_type": "execute_result",
          "data": {
            "text/plain": [
              "(28, 28, 1)"
            ]
          },
          "metadata": {
            "tags": []
          },
          "execution_count": 15
        }
      ]
    },
    {
      "cell_type": "markdown",
      "metadata": {
        "id": "eihMp3-jDlQA",
        "colab_type": "text"
      },
      "source": [
        "**Model Parameter**"
      ]
    },
    {
      "cell_type": "code",
      "metadata": {
        "id": "4UYtGaHBFV9Q",
        "colab_type": "code",
        "colab": {
          "base_uri": "https://localhost:8080/",
          "height": 241
        },
        "outputId": "8261f636-1649-4f8d-c56e-ba23bb45569a"
      },
      "source": [
        "  model = Sequential()\n",
        "  model.add(Conv2D(32,(3,3),padding='same',activation='relu',input_shape=X_train[0].shape))\n",
        "  model.add(Conv2D(32,(3,3),padding='same',activation='relu'))\n",
        "  model.add(Dropout(0.5))\n",
        "  model.add(Conv2D(64,(3,3),padding='same',activation='relu'))\n",
        "  model.add(Conv2D(64,(3,3),padding='same',activation='relu'))\n",
        "  model.add(Flatten())\n",
        "  model.add(Dense(128,activation='relu'))\n",
        "  model.add(Dropout(0.5))\n",
        "  model.add(Dense(10,activation='softmax'))"
      ],
      "execution_count": 16,
      "outputs": [
        {
          "output_type": "stream",
          "text": [
            "WARNING: Logging before flag parsing goes to stderr.\n",
            "W0708 15:01:50.182281 140396014643072 deprecation_wrapper.py:119] From /usr/local/lib/python3.6/dist-packages/keras/backend/tensorflow_backend.py:74: The name tf.get_default_graph is deprecated. Please use tf.compat.v1.get_default_graph instead.\n",
            "\n",
            "W0708 15:01:50.209858 140396014643072 deprecation_wrapper.py:119] From /usr/local/lib/python3.6/dist-packages/keras/backend/tensorflow_backend.py:517: The name tf.placeholder is deprecated. Please use tf.compat.v1.placeholder instead.\n",
            "\n",
            "W0708 15:01:50.213682 140396014643072 deprecation_wrapper.py:119] From /usr/local/lib/python3.6/dist-packages/keras/backend/tensorflow_backend.py:4138: The name tf.random_uniform is deprecated. Please use tf.random.uniform instead.\n",
            "\n",
            "W0708 15:01:50.253185 140396014643072 deprecation_wrapper.py:119] From /usr/local/lib/python3.6/dist-packages/keras/backend/tensorflow_backend.py:133: The name tf.placeholder_with_default is deprecated. Please use tf.compat.v1.placeholder_with_default instead.\n",
            "\n",
            "W0708 15:01:50.266955 140396014643072 deprecation.py:506] From /usr/local/lib/python3.6/dist-packages/keras/backend/tensorflow_backend.py:3445: calling dropout (from tensorflow.python.ops.nn_ops) with keep_prob is deprecated and will be removed in a future version.\n",
            "Instructions for updating:\n",
            "Please use `rate` instead of `keep_prob`. Rate should be set to `rate = 1 - keep_prob`.\n"
          ],
          "name": "stderr"
        }
      ]
    },
    {
      "cell_type": "code",
      "metadata": {
        "id": "S48NsqAfGAl1",
        "colab_type": "code",
        "outputId": "4430a994-ebb3-444f-e446-86f8e557b75c",
        "colab": {
          "base_uri": "https://localhost:8080/",
          "height": 442
        }
      },
      "source": [
        "model.summary()"
      ],
      "execution_count": 17,
      "outputs": [
        {
          "output_type": "stream",
          "text": [
            "_________________________________________________________________\n",
            "Layer (type)                 Output Shape              Param #   \n",
            "=================================================================\n",
            "conv2d_1 (Conv2D)            (None, 28, 28, 32)        320       \n",
            "_________________________________________________________________\n",
            "conv2d_2 (Conv2D)            (None, 28, 28, 32)        9248      \n",
            "_________________________________________________________________\n",
            "dropout_1 (Dropout)          (None, 28, 28, 32)        0         \n",
            "_________________________________________________________________\n",
            "conv2d_3 (Conv2D)            (None, 28, 28, 64)        18496     \n",
            "_________________________________________________________________\n",
            "conv2d_4 (Conv2D)            (None, 28, 28, 64)        36928     \n",
            "_________________________________________________________________\n",
            "flatten_1 (Flatten)          (None, 50176)             0         \n",
            "_________________________________________________________________\n",
            "dense_1 (Dense)              (None, 128)               6422656   \n",
            "_________________________________________________________________\n",
            "dropout_2 (Dropout)          (None, 128)               0         \n",
            "_________________________________________________________________\n",
            "dense_2 (Dense)              (None, 10)                1290      \n",
            "=================================================================\n",
            "Total params: 6,488,938\n",
            "Trainable params: 6,488,938\n",
            "Non-trainable params: 0\n",
            "_________________________________________________________________\n"
          ],
          "name": "stdout"
        }
      ]
    },
    {
      "cell_type": "code",
      "metadata": {
        "id": "yrOpeNIaFvZ1",
        "colab_type": "code",
        "colab": {
          "base_uri": "https://localhost:8080/",
          "height": 105
        },
        "outputId": "fdb22507-795f-41eb-cef2-6928ea424aca"
      },
      "source": [
        "model.compile(optimizer='adam',loss='categorical_crossentropy',metrics=['accuracy'])"
      ],
      "execution_count": 18,
      "outputs": [
        {
          "output_type": "stream",
          "text": [
            "W0708 15:01:50.406711 140396014643072 deprecation_wrapper.py:119] From /usr/local/lib/python3.6/dist-packages/keras/optimizers.py:790: The name tf.train.Optimizer is deprecated. Please use tf.compat.v1.train.Optimizer instead.\n",
            "\n",
            "W0708 15:01:50.448755 140396014643072 deprecation_wrapper.py:119] From /usr/local/lib/python3.6/dist-packages/keras/backend/tensorflow_backend.py:3295: The name tf.log is deprecated. Please use tf.math.log instead.\n",
            "\n"
          ],
          "name": "stderr"
        }
      ]
    },
    {
      "cell_type": "markdown",
      "metadata": {
        "id": "Z1jFpi3JDscO",
        "colab_type": "text"
      },
      "source": [
        "**Training the model for 20 epochs**"
      ]
    },
    {
      "cell_type": "code",
      "metadata": {
        "id": "cHU3Nn_WGbhh",
        "colab_type": "code",
        "outputId": "719397cc-e9f7-45f7-ae67-6dc925a345a8",
        "colab": {
          "base_uri": "https://localhost:8080/",
          "height": 785
        }
      },
      "source": [
        "hist = model.fit(X_train,y_train,batch_size=256,epochs=20,verbose=1,validation_split=0.2)"
      ],
      "execution_count": 19,
      "outputs": [
        {
          "output_type": "stream",
          "text": [
            "W0708 15:01:50.699269 140396014643072 deprecation.py:323] From /usr/local/lib/python3.6/dist-packages/tensorflow/python/ops/math_grad.py:1250: add_dispatch_support.<locals>.wrapper (from tensorflow.python.ops.array_ops) is deprecated and will be removed in a future version.\n",
            "Instructions for updating:\n",
            "Use tf.where in 2.0, which has the same broadcast rule as np.where\n"
          ],
          "name": "stderr"
        },
        {
          "output_type": "stream",
          "text": [
            "Train on 48000 samples, validate on 12000 samples\n",
            "Epoch 1/20\n",
            "48000/48000 [==============================] - 18s 369us/step - loss: 0.3386 - acc: 0.8941 - val_loss: 0.0654 - val_acc: 0.9801\n",
            "Epoch 2/20\n",
            "48000/48000 [==============================] - 15s 309us/step - loss: 0.1037 - acc: 0.9701 - val_loss: 0.0524 - val_acc: 0.9866\n",
            "Epoch 3/20\n",
            "48000/48000 [==============================] - 15s 310us/step - loss: 0.0747 - acc: 0.9772 - val_loss: 0.0487 - val_acc: 0.9857\n",
            "Epoch 4/20\n",
            "48000/48000 [==============================] - 15s 309us/step - loss: 0.0578 - acc: 0.9822 - val_loss: 0.0504 - val_acc: 0.9877\n",
            "Epoch 5/20\n",
            "48000/48000 [==============================] - 15s 309us/step - loss: 0.0490 - acc: 0.9850 - val_loss: 0.0410 - val_acc: 0.9888\n",
            "Epoch 6/20\n",
            "48000/48000 [==============================] - 15s 312us/step - loss: 0.0408 - acc: 0.9880 - val_loss: 0.0401 - val_acc: 0.9896\n",
            "Epoch 7/20\n",
            "48000/48000 [==============================] - 15s 309us/step - loss: 0.0346 - acc: 0.9888 - val_loss: 0.0382 - val_acc: 0.9908\n",
            "Epoch 8/20\n",
            "48000/48000 [==============================] - 15s 307us/step - loss: 0.0321 - acc: 0.9891 - val_loss: 0.0386 - val_acc: 0.9904\n",
            "Epoch 9/20\n",
            "48000/48000 [==============================] - 15s 307us/step - loss: 0.0290 - acc: 0.9906 - val_loss: 0.0392 - val_acc: 0.9900\n",
            "Epoch 10/20\n",
            "48000/48000 [==============================] - 15s 308us/step - loss: 0.0254 - acc: 0.9915 - val_loss: 0.0378 - val_acc: 0.9913\n",
            "Epoch 11/20\n",
            "48000/48000 [==============================] - 15s 307us/step - loss: 0.0249 - acc: 0.9915 - val_loss: 0.0381 - val_acc: 0.9903\n",
            "Epoch 12/20\n",
            "48000/48000 [==============================] - 15s 308us/step - loss: 0.0206 - acc: 0.9937 - val_loss: 0.0417 - val_acc: 0.9905\n",
            "Epoch 13/20\n",
            "48000/48000 [==============================] - 15s 308us/step - loss: 0.0187 - acc: 0.9936 - val_loss: 0.0404 - val_acc: 0.9917\n",
            "Epoch 14/20\n",
            "48000/48000 [==============================] - 15s 307us/step - loss: 0.0190 - acc: 0.9933 - val_loss: 0.0435 - val_acc: 0.9908\n",
            "Epoch 15/20\n",
            "48000/48000 [==============================] - 15s 306us/step - loss: 0.0164 - acc: 0.9948 - val_loss: 0.0522 - val_acc: 0.9899\n",
            "Epoch 16/20\n",
            "48000/48000 [==============================] - 15s 308us/step - loss: 0.0152 - acc: 0.9949 - val_loss: 0.0430 - val_acc: 0.9911\n",
            "Epoch 17/20\n",
            "48000/48000 [==============================] - 15s 308us/step - loss: 0.0151 - acc: 0.9948 - val_loss: 0.0409 - val_acc: 0.9923\n",
            "Epoch 18/20\n",
            "48000/48000 [==============================] - 15s 307us/step - loss: 0.0128 - acc: 0.9955 - val_loss: 0.0409 - val_acc: 0.9920\n",
            "Epoch 19/20\n",
            "48000/48000 [==============================] - 15s 306us/step - loss: 0.0132 - acc: 0.9958 - val_loss: 0.0472 - val_acc: 0.9911\n",
            "Epoch 20/20\n",
            "48000/48000 [==============================] - 15s 307us/step - loss: 0.0138 - acc: 0.9955 - val_loss: 0.0433 - val_acc: 0.9913\n"
          ],
          "name": "stdout"
        }
      ]
    },
    {
      "cell_type": "code",
      "metadata": {
        "id": "k06bwmrKKBJZ",
        "colab_type": "code",
        "outputId": "fb47ca63-c7ed-4139-b083-392daa9d6a77",
        "colab": {
          "base_uri": "https://localhost:8080/",
          "height": 241
        }
      },
      "source": [
        "loss = [hist.history['loss'],hist.history['val_loss']]\n",
        "acc = [hist.history['acc'],hist.history['val_acc']]\n",
        "\n",
        "\n",
        "\n",
        "fig, axes = plt.subplots(1,2,figsize = (15,3))\n",
        "\n",
        "# fig.suptitle(model_name)\n",
        "\n",
        "for ax,val,name in zip(axes,(loss,acc),['loss','accuracy']):\n",
        "\n",
        "    ax.plot(val[0], color='b', label=\"Training\")\n",
        "\n",
        "    ax.plot(val[1], color='r', label=\"Validation\")\n",
        "\n",
        "    ax.legend(loc='best')\n",
        "\n",
        "    ax.set_xlabel('epoch')\n",
        "\n",
        "    ax.set_ylabel('')\n",
        "\n",
        "    ax.set_title(name)"
      ],
      "execution_count": 20,
      "outputs": [
        {
          "output_type": "display_data",
          "data": {
            "image/png": "[encoded data removed]",
            "text/plain": [
              "<Figure size 1080x216 with 2 Axes>"
            ]
          },
          "metadata": {
            "tags": []
          }
        }
      ]
    },
    {
      "cell_type": "code",
      "metadata": {
        "id": "WxGHE6ThMSiD",
        "colab_type": "code",
        "outputId": "32ac6e36-89cc-4051-943b-b5eef1459bc2",
        "colab": {
          "base_uri": "https://localhost:8080/",
          "height": 51
        }
      },
      "source": [
        "model.evaluate(X_test,y_test)"
      ],
      "execution_count": 21,
      "outputs": [
        {
          "output_type": "stream",
          "text": [
            "10000/10000 [==============================] - 2s 184us/step\n"
          ],
          "name": "stdout"
        },
        {
          "output_type": "execute_result",
          "data": {
            "text/plain": [
              "[0.03212657616790238, 0.9925]"
            ]
          },
          "metadata": {
            "tags": []
          },
          "execution_count": 21
        }
      ]
    },
    {
      "cell_type": "markdown",
      "metadata": {
        "id": "Ow-nO-PfEtei",
        "colab_type": "text"
      },
      "source": [
        "**Testing the model at 5th position**"
      ]
    },
    {
      "cell_type": "code",
      "metadata": {
        "id": "b-l-KlvcMY6A",
        "colab_type": "code",
        "colab": {}
      },
      "source": [
        "pred = model.predict(X_test)"
      ],
      "execution_count": 0,
      "outputs": []
    },
    {
      "cell_type": "code",
      "metadata": {
        "id": "rdmtTY8bMjW9",
        "colab_type": "code",
        "outputId": "f45575c5-5c7f-4b28-c195-522698973e24",
        "colab": {
          "base_uri": "https://localhost:8080/",
          "height": 68
        }
      },
      "source": [
        "pred[5]"
      ],
      "execution_count": 23,
      "outputs": [
        {
          "output_type": "execute_result",
          "data": {
            "text/plain": [
              "array([4.5961818e-16, 1.0000000e+00, 1.2639798e-13, 3.8112393e-17,\n",
              "       4.6477080e-13, 1.2647834e-16, 2.1533833e-15, 8.0805189e-12,\n",
              "       4.1752791e-13, 4.7872470e-16], dtype=float32)"
            ]
          },
          "metadata": {
            "tags": []
          },
          "execution_count": 23
        }
      ]
    },
    {
      "cell_type": "code",
      "metadata": {
        "id": "VCgMYuHgNl1X",
        "colab_type": "code",
        "outputId": "5774c055-b9bc-479d-c892-185400a2c4ad",
        "colab": {
          "base_uri": "https://localhost:8080/",
          "height": 34
        }
      },
      "source": [
        "np.argmax(pred[5])"
      ],
      "execution_count": 24,
      "outputs": [
        {
          "output_type": "execute_result",
          "data": {
            "text/plain": [
              "1"
            ]
          },
          "metadata": {
            "tags": []
          },
          "execution_count": 24
        }
      ]
    },
    {
      "cell_type": "code",
      "metadata": {
        "id": "bDR3j1RmOBre",
        "colab_type": "code",
        "outputId": "0b25e157-c184-4f38-a29c-d9b021bcc42c",
        "colab": {
          "base_uri": "https://localhost:8080/",
          "height": 34
        }
      },
      "source": [
        "X_test[5].shape"
      ],
      "execution_count": 25,
      "outputs": [
        {
          "output_type": "execute_result",
          "data": {
            "text/plain": [
              "(28, 28, 1)"
            ]
          },
          "metadata": {
            "tags": []
          },
          "execution_count": 25
        }
      ]
    },
    {
      "cell_type": "code",
      "metadata": {
        "id": "-ko4F9YxNy_V",
        "colab_type": "code",
        "outputId": "88dba4d2-4c35-41df-8989-9378a8563f6a",
        "colab": {
          "base_uri": "https://localhost:8080/",
          "height": 286
        }
      },
      "source": [
        "plt.imshow(X_test[5][:,:,0],cmap='gray')"
      ],
      "execution_count": 26,
      "outputs": [
        {
          "output_type": "execute_result",
          "data": {
            "text/plain": [
              "<matplotlib.image.AxesImage at 0x7fb0204f9cc0>"
            ]
          },
          "metadata": {
            "tags": []
          },
          "execution_count": 26
        },
        {
          "output_type": "display_data",
          "data": {
            "image/png": "[encoded data removed]",
            "text/plain": [
              "<Figure size 432x288 with 1 Axes>"
            ]
          },
          "metadata": {
            "tags": []
          }
        }
      ]
    }
  ]
}